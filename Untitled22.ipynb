{
 "cells": [
  {
   "cell_type": "code",
   "execution_count": 1,
   "id": "239e799e",
   "metadata": {},
   "outputs": [],
   "source": [
    "#1\n",
    "positive = ['good','awesome','best','nice']\n",
    "negative = ['worst','awful']\n",
    "comments = ['He is a good boy',\n",
    "            'Food is the worst here',\n",
    "            'Here is an awesome player',\n",
    "            'She is the best',\n",
    "            'This pizza tastes awful',\n",
    "            'These burgers are really nice']"
   ]
  },
  {
   "cell_type": "code",
   "execution_count": 2,
   "id": "2281666e",
   "metadata": {},
   "outputs": [
    {
     "name": "stdout",
     "output_type": "stream",
     "text": [
      "Positive Comment\n",
      "Negative Comment\n",
      "Positive Comment\n",
      "Positive Comment\n",
      "Negative Comment\n",
      "Positive Comment\n"
     ]
    }
   ],
   "source": [
    "for i in comments:\n",
    "    l = i.split()\n",
    "    for j in l:\n",
    "        for k in negative:\n",
    "            if j == k:\n",
    "                print(\"Negative Comment\")\n",
    "        for k in positive:\n",
    "            if j == k:\n",
    "                print(\"Positive Comment\")"
   ]
  },
  {
   "cell_type": "code",
   "execution_count": 3,
   "id": "2af0fb76",
   "metadata": {},
   "outputs": [],
   "source": [
    "#5\n",
    "WeightOnEarth = {'John':45,'Shelby':65,'Marry':35}\n",
    "Gmoon=1.622\n",
    "Gearth=9.81\n",
    "WeightOnMoon = {}\n",
    "for i in WeightOnEarth:\n",
    "    wmoon = (WeightOnEarth[i]*Gmoon)/Gearth\n",
    "    WeightOnMoon[i] = round(wmoon,2)"
   ]
  },
  {
   "cell_type": "code",
   "execution_count": 4,
   "id": "e4577b40",
   "metadata": {},
   "outputs": [
    {
     "name": "stdout",
     "output_type": "stream",
     "text": [
      "{'John': 7.44, 'Shelby': 10.75, 'Marry': 5.79}\n"
     ]
    }
   ],
   "source": [
    "print(WeightOnMoon)"
   ]
  },
  {
   "cell_type": "code",
   "execution_count": 7,
   "id": "ed4db4cb",
   "metadata": {},
   "outputs": [],
   "source": [
    "#9\n",
    "Isbool=['True','FALse','tRUe','tRue','False','faLse']"
   ]
  },
  {
   "cell_type": "code",
   "execution_count": 8,
   "id": "cfe80253",
   "metadata": {},
   "outputs": [
    {
     "name": "stdout",
     "output_type": "stream",
     "text": [
      "['TRUE', 'FALSE', 'TRUE', 'TRUE', 'FALSE', 'FALSE']\n"
     ]
    }
   ],
   "source": [
    "x=map(lambda x:x.upper(),['True','FALse','tRUe','tRue','False','faLse'])\n",
    "list1=list(x)\n",
    "print(list1)"
   ]
  },
  {
   "cell_type": "code",
   "execution_count": 9,
   "id": "e53f661d",
   "metadata": {},
   "outputs": [],
   "source": [
    "#4\n",
    "ls = ['hello','Dear','hOw','ARe','You']"
   ]
  },
  {
   "cell_type": "code",
   "execution_count": 10,
   "id": "00bcdefc",
   "metadata": {},
   "outputs": [
    {
     "name": "stdout",
     "output_type": "stream",
     "text": [
      "hOw\n",
      "ARe\n"
     ]
    }
   ],
   "source": [
    "for i in ls:\n",
    "    if(i[1].isupper()):\n",
    "        print(i)"
   ]
  },
  {
   "cell_type": "code",
   "execution_count": 11,
   "id": "16de9063",
   "metadata": {},
   "outputs": [],
   "source": [
    "#3\n",
    "Fruit=(('Lemon','sour'),\n",
    "       ('DragonFruit','Sour'),\n",
    "       ('Grapes','sOur'),\n",
    "       ('Kiwi','dfsf'),\n",
    "       (\"Apples\",\"sweet\"),\n",
    "       (\"Orange\",\"sour\"),\n",
    "       (\"Blueberries\",\"sweet\"),\n",
    "       (\"Limes\",\"Sour\"))"
   ]
  },
  {
   "cell_type": "code",
   "execution_count": 14,
   "id": "408cea3e",
   "metadata": {},
   "outputs": [
    {
     "name": "stdout",
     "output_type": "stream",
     "text": [
      "['Lemon', 'DragonFruit', 'Grapes', 'Orange', 'Limes']\n"
     ]
    }
   ],
   "source": [
    "sour_fruits=[]\n",
    "for i in Fruit:\n",
    "    if(i[1].lower()=='sour'):\n",
    "        sour_fruits.append(i[0])\n",
    "    \n",
    "print(sour_fruits)"
   ]
  },
  {
   "cell_type": "code",
   "execution_count": 15,
   "id": "0041b136",
   "metadata": {},
   "outputs": [],
   "source": [
    "#6\n",
    "namelist = [\"santa Maria\",\"Hello World\",\"Merry christmas\",\"tHank You\"]"
   ]
  },
  {
   "cell_type": "code",
   "execution_count": 16,
   "id": "3cadea43",
   "metadata": {},
   "outputs": [
    {
     "name": "stdout",
     "output_type": "stream",
     "text": [
      "Maria\n",
      "Hello\n",
      "World\n",
      "Merry\n",
      "You\n"
     ]
    }
   ],
   "source": [
    "for i in namelist:\n",
    "    l = i.split()\n",
    "    for j in l:\n",
    "        if (j[0].isupper()):\n",
    "            print(j)\n"
   ]
  },
  {
   "cell_type": "code",
   "execution_count": 17,
   "id": "580d97cf",
   "metadata": {},
   "outputs": [],
   "source": [
    "#8\n",
    "list1=[9,5,7,8,5]"
   ]
  },
  {
   "cell_type": "code",
   "execution_count": null,
   "id": "4adc92ff",
   "metadata": {},
   "outputs": [],
   "source": [
    "from iterrools import accumulate\n"
   ]
  }
 ],
 "metadata": {
  "kernelspec": {
   "display_name": "Python 3 (ipykernel)",
   "language": "python",
   "name": "python3"
  },
  "language_info": {
   "codemirror_mode": {
    "name": "ipython",
    "version": 3
   },
   "file_extension": ".py",
   "mimetype": "text/x-python",
   "name": "python",
   "nbconvert_exporter": "python",
   "pygments_lexer": "ipython3",
   "version": "3.9.7"
  }
 },
 "nbformat": 4,
 "nbformat_minor": 5
}
