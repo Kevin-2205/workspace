{
 "cells": [
  {
   "cell_type": "code",
   "execution_count": 1,
   "id": "ad02314b",
   "metadata": {},
   "outputs": [],
   "source": [
    "#1\n",
    "positive = ['good','awesome','best','nice']\n",
    "negative = ['worst','awful']\n",
    "comments = ['He is a good boy',\n",
    "            'Food is the worst here',\n",
    "            'Here is an awesome player',\n",
    "            'She is the best',\n",
    "            'This pizza tastes awful',\n",
    "            'These burgers are really nice']"
   ]
  },
  {
   "cell_type": "code",
   "execution_count": 2,
   "id": "55dac902",
   "metadata": {},
   "outputs": [
    {
     "name": "stdout",
     "output_type": "stream",
     "text": [
      "Positive Comment\n",
      "Negative Comment\n",
      "Positive Comment\n",
      "Positive Comment\n",
      "Negative Comment\n",
      "Positive Comment\n"
     ]
    }
   ],
   "source": [
    "for i in comments:\n",
    "    l = i.split()\n",
    "    for j in l:\n",
    "        for k in negative:\n",
    "            if j == k:\n",
    "                print(\"Negative Comment\")\n",
    "        for k in positive:\n",
    "            if j == k:\n",
    "                print(\"Positive Comment\")"
   ]
  },
  {
   "cell_type": "code",
   "execution_count": 3,
   "id": "a34f2416",
   "metadata": {},
   "outputs": [],
   "source": [
    "#5\n",
    "WeightOnEarth = {'John':45,'Shelby':65,'Marry':35}\n",
    "Gmoon=1.622\n",
    "Gearth=9.81\n",
    "WeightOnMoon = {}\n",
    "for i in WeightOnEarth:\n",
    "    wmoon = (WeightOnEarth[i]*Gmoon)/Gearth\n",
    "    WeightOnMoon[i] = round(wmoon,2)"
   ]
  },
  {
   "cell_type": "code",
   "execution_count": 4,
   "id": "d0de8577",
   "metadata": {},
   "outputs": [
    {
     "name": "stdout",
     "output_type": "stream",
     "text": [
      "{'John': 7.44, 'Shelby': 10.75, 'Marry': 5.79}\n"
     ]
    }
   ],
   "source": [
    "print(WeightOnMoon)"
   ]
  },
  {
   "cell_type": "code",
   "execution_count": 7,
   "id": "8cf81a55",
   "metadata": {},
   "outputs": [],
   "source": [
    "#9\n",
    "Isbool=['True','FALse','tRUe','tRue','False','faLse']"
   ]
  },
  {
   "cell_type": "code",
   "execution_count": 8,
   "id": "f1835cb8",
   "metadata": {},
   "outputs": [
    {
     "name": "stdout",
     "output_type": "stream",
     "text": [
      "['TRUE', 'FALSE', 'TRUE', 'TRUE', 'FALSE', 'FALSE']\n"
     ]
    }
   ],
   "source": [
    "x=map(lambda x:x.upper(),['True','FALse','tRUe','tRue','False','faLse'])\n",
    "list1=list(x)\n",
    "print(list1)"
   ]
  },
  {
   "cell_type": "code",
   "execution_count": 9,
   "id": "7b3072c5",
   "metadata": {},
   "outputs": [],
   "source": [
    "#4\n",
    "ls = ['hello','Dear','hOw','ARe','You']"
   ]
  },
  {
   "cell_type": "code",
   "execution_count": 10,
   "id": "7de4a96f",
   "metadata": {},
   "outputs": [
    {
     "name": "stdout",
     "output_type": "stream",
     "text": [
      "hOw\n",
      "ARe\n"
     ]
    }
   ],
   "source": [
    "for i in ls:\n",
    "    if(i[1].isupper()):\n",
    "        print(i)"
   ]
  },
  {
   "cell_type": "code",
   "execution_count": 11,
   "id": "10b984a2",
   "metadata": {},
   "outputs": [],
   "source": [
    "#3\n",
    "Fruit=(('Lemon','sour'),\n",
    "       ('DragonFruit','Sour'),\n",
    "       ('Grapes','sOur'),\n",
    "       ('Kiwi','dfsf'),\n",
    "       (\"Apples\",\"sweet\"),\n",
    "       (\"Orange\",\"sour\"),\n",
    "       (\"Blueberries\",\"sweet\"),\n",
    "       (\"Limes\",\"Sour\"))"
   ]
  },
  {
   "cell_type": "code",
   "execution_count": 14,
   "id": "e72625d1",
   "metadata": {},
   "outputs": [
    {
     "name": "stdout",
     "output_type": "stream",
     "text": [
      "['Lemon', 'DragonFruit', 'Grapes', 'Orange', 'Limes']\n"
     ]
    }
   ],
   "source": [
    "sour_fruits=[]\n",
    "for i in Fruit:\n",
    "    if(i[1].lower()=='sour'):\n",
    "        sour_fruits.append(i[0])\n",
    "    \n",
    "print(sour_fruits)"
   ]
  },
  {
   "cell_type": "code",
   "execution_count": 15,
   "id": "16c18da9",
   "metadata": {},
   "outputs": [],
   "source": [
    "#6\n",
    "namelist = [\"santa Maria\",\"Hello World\",\"Merry christmas\",\"tHank You\"]"
   ]
  },
  {
   "cell_type": "code",
   "execution_count": 16,
   "id": "5bf075d6",
   "metadata": {},
   "outputs": [
    {
     "name": "stdout",
     "output_type": "stream",
     "text": [
      "Maria\n",
      "Hello\n",
      "World\n",
      "Merry\n",
      "You\n"
     ]
    }
   ],
   "source": [
    "for i in namelist:\n",
    "    l = i.split()\n",
    "    for j in l:\n",
    "        if (j[0].isupper()):\n",
    "            print(j)\n"
   ]
  },
  {
   "cell_type": "code",
   "execution_count": 17,
   "id": "b5f1b0a9",
   "metadata": {},
   "outputs": [],
   "source": [
    "#8\n",
    "list1=[9,5,7,8,5]"
   ]
  },
  {
   "cell_type": "code",
   "execution_count": 20,
   "id": "58c2cb96",
   "metadata": {},
   "outputs": [
    {
     "name": "stdout",
     "output_type": "stream",
     "text": [
      "9\n",
      "7.0\n",
      "7.0\n",
      "7.5\n",
      "6.25\n"
     ]
    }
   ],
   "source": [
    "from itertools import accumulate\n",
    "result=accumulate(list1,lambda x,y:(x+y)/2)\n",
    "for res in result:\n",
    "    print(res)"
   ]
  },
  {
   "cell_type": "code",
   "execution_count": null,
   "id": "7e36ccbf",
   "metadata": {},
   "outputs": [],
   "source": []
  }
 ],
 "metadata": {
  "kernelspec": {
   "display_name": "Python 3 (ipykernel)",
   "language": "python",
   "name": "python3"
  },
  "language_info": {
   "codemirror_mode": {
    "name": "ipython",
    "version": 3
   },
   "file_extension": ".py",
   "mimetype": "text/x-python",
   "name": "python",
   "nbconvert_exporter": "python",
   "pygments_lexer": "ipython3",
   "version": "3.9.7"
  }
 },
 "nbformat": 4,
 "nbformat_minor": 5
}
