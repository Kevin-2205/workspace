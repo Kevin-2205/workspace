{
 "cells": [
  {
   "cell_type": "code",
   "execution_count": null,
   "id": "edfc74b2",
   "metadata": {},
   "outputs": [],
   "source": [
    "import pandas as pd\n",
    "data1 = pd.read_excel(\"D:/files/programs/mean.xlsx\")\n",
    "data1.A.mean()\n",
    "data1.B.mean()\n",
    "data1.A.median()\n",
    "data1.B.median()\n",
    "data1.A.mode()\n",
    "data1.B.mode()\n",
    "data1.A.std()\n",
    "data1.B.var()\n"
   ]
  }
 ],
 "metadata": {
  "kernelspec": {
   "display_name": "Python 3 (ipykernel)",
   "language": "python",
   "name": "python3"
  },
  "language_info": {
   "codemirror_mode": {
    "name": "ipython",
    "version": 3
   },
   "file_extension": ".py",
   "mimetype": "text/x-python",
   "name": "python",
   "nbconvert_exporter": "python",
   "pygments_lexer": "ipython3",
   "version": "3.9.7"
  }
 },
 "nbformat": 4,
 "nbformat_minor": 5
}
