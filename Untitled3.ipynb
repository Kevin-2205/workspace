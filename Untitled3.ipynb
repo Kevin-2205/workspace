{
 "cells": [
  {
   "cell_type": "code",
   "execution_count": 1,
   "id": "91808673",
   "metadata": {},
   "outputs": [
    {
     "name": "stdout",
     "output_type": "stream",
     "text": [
      "Enter Roll Number: 5\n",
      "Enter Name: ;oir\n",
      "Enter 5 subjects marks: \n",
      "Subject 1: 98\n",
      "Subject 2: 98\n",
      "Subject 3: 98\n",
      "Subject 4: 98\n",
      "Subject 5: 98\n",
      "5 \t ;oir \t 490 \t 98.0 \t 0 \t\n"
     ]
    }
   ],
   "source": [
    "class grade_calculator:\n",
    "   def __init__(self):\n",
    "      self.__roll_number = 0\n",
    "      self._Name = \"\"\n",
    "      self.__marks_obtained = []\n",
    "      self.__total_marks = 0\n",
    "      self.__percentage = 0\n",
    "      self.__grade = \"\"\n",
    "      self.__result = \"\"\n",
    "   def setgrade_calculator(self):\n",
    "      self.__roll_number = int(input(\"Enter Roll Number: \"))\n",
    "      self.__Name = input(\"Enter Name: \")\n",
    "      print(\"Enter 5 subjects marks: \")\n",
    "      for n in range(5):\n",
    "         self.__marks_obtained.append(int(input(\"Subject \" + str(n + 1) + \": \")))\n",
    "   def Total(self):\n",
    "      for i in self.__marks_obtained:\n",
    "         self.__total_marks += i\n",
    "   def Percentage(self):\n",
    "      self.__percentage = self.__total_marks / 5\n",
    "   def calculateGrade(self):\n",
    "      if self.__percentage >= 90:\n",
    "         self.__grade = \"0\"\n",
    "      elif self.__percentage >= 80:\n",
    "         self.__grade = \"A+\"\n",
    "      elif self.__percentage >= 70:\n",
    "         self.__grade = \"A\"\n",
    "      elif self.__percentage >= 60:\n",
    "         self.__grade = \"B+\"\n",
    "      elif self.__percentage >= 50:\n",
    "         self.__grade = \"B\"\n",
    "      elif self.__percentage >= 40:\n",
    "         self.__grade = \"C\"\n",
    "      else:\n",
    "         self.__grade = \"F\"\n",
    "   def Result(self):\n",
    "      count = 0\n",
    "      for x in self.__marks_obtained:\n",
    "         if x >= 40:\n",
    "            count += 1\n",
    "      if count == 5:\n",
    "         self.__result = \"PASS\"\n",
    "      elif count >= 3:\n",
    "         self.__result = \"COMP.\"\n",
    "      else:\n",
    "         self.__result = \"FAIL\"\n",
    "   def showgrade_calculator(self):\n",
    "      self.Total()\n",
    "      self.Percentage()\n",
    "      self.calculateGrade()\n",
    "      self.Result()\n",
    "      print(self.__roll_number, \"\\t\", self.__Name, \"\\t\", self.__total_marks, \"\\t\",          self.__percentage, \"\\t\", self.__grade, \"\\t\",)\n",
    "def main():\n",
    "   gc = grade_calculator()\n",
    "   gc.setgrade_calculator()\n",
    "   gc.showgrade_calculator()\n",
    "if __name__ == \"__main__\":\n",
    "   main()\n",
    "\n"
   ]
  },
  {
   "cell_type": "code",
   "execution_count": null,
   "id": "7d440b1b",
   "metadata": {},
   "outputs": [],
   "source": []
  }
 ],
 "metadata": {
  "kernelspec": {
   "display_name": "Python 3 (ipykernel)",
   "language": "python",
   "name": "python3"
  },
  "language_info": {
   "codemirror_mode": {
    "name": "ipython",
    "version": 3
   },
   "file_extension": ".py",
   "mimetype": "text/x-python",
   "name": "python",
   "nbconvert_exporter": "python",
   "pygments_lexer": "ipython3",
   "version": "3.9.7"
  }
 },
 "nbformat": 4,
 "nbformat_minor": 5
}
