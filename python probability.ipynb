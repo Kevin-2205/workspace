{
 "cells": [
  {
   "cell_type": "code",
   "execution_count": 1,
   "id": "f1636cb4",
   "metadata": {},
   "outputs": [
    {
     "name": "stdout",
     "output_type": "stream",
     "text": [
      "Enter the mu87\n",
      "Enter the sigma85\n",
      "If u need from infinity to Particular value give -1\n",
      "Enter the data 1 :78\n",
      "Enter the data 2 :77\n",
      "-6.13277384066066e-06\n"
     ]
    }
   ],
   "source": [
    "from statistics import NormalDist\n",
    "m = int(input(\"Enter the mu\"))\n",
    "s = int(input(\"Enter the sigma\"))\n",
    "dis = NormalDist(mu = m,sigma=s)\n",
    "print(\"If u need from infinity to Particular value give -1\")\n",
    "data1 = int(input(\"Enter the data 1 :\"))\n",
    "data2 = int(input(\"Enter the data 2 :\"))\n",
    "if(data1==-1 or data2==-1):\n",
    "        if data1==-1:\n",
    "            print(0-dis.pdf(data2))\n",
    "        else:\n",
    "            print(dis.pdf(data1))\n",
    "            \n",
    "else:\n",
    "        print(dis.pdf(data2)-dis.pdf(data1))\n",
    "        \n"
   ]
  },
  {
   "cell_type": "code",
   "execution_count": null,
   "id": "76bd44f4",
   "metadata": {},
   "outputs": [],
   "source": []
  }
 ],
 "metadata": {
  "kernelspec": {
   "display_name": "Python 3 (ipykernel)",
   "language": "python",
   "name": "python3"
  },
  "language_info": {
   "codemirror_mode": {
    "name": "ipython",
    "version": 3
   },
   "file_extension": ".py",
   "mimetype": "text/x-python",
   "name": "python",
   "nbconvert_exporter": "python",
   "pygments_lexer": "ipython3",
   "version": "3.9.7"
  }
 },
 "nbformat": 4,
 "nbformat_minor": 5
}
