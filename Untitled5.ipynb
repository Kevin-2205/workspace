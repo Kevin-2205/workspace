{
 "cells": [
  {
   "cell_type": "code",
   "execution_count": null,
   "id": "8b71f684",
   "metadata": {},
   "outputs": [],
   "source": [
    "sublist = [\n",
    "    \"HS815 : Communicative English -\",\n",
    "    \"BS8161 : Physics and Chemistry Laboratory -\",\n",
    "    \"CY8151 : Engineering Chemistry -\",\n",
    "    \"GE8151 : Problem Solving and Python Programming -\",\n",
    "    \"GE8152 : Engineering Graphics -\",\n",
    "    \"GE8161 : Problem Solving and Python Programming Laboratory -\",\n",
    "    \"MA8151 : Engineering Mathematics - I -\",\n",
    "    \"PH8151 - Engineering Physics -\"\n",
    "    ]\n",
    "credit_points =[4,2,3,3,4,2,4,3]\n",
    "grade_list=[[\"O\",10],[\"A+\",9],[\"A\",8],[\"B+\",7],[\"B\",6],[\"F\",0]]\n",
    "Mark_list=[]\n",
    "total=0\n",
    "cre=0\n",
    "name = input(\"Enter the Name : \")\n",
    "Regno = int(input(\"Enter the Register number : \")) \n",
    "print(\"Enter the Grade\")\n",
    "for i in sublist:\n",
    "    print(i,end=\" \")\n",
    "    Mark_list.append(input())\n",
    "    print(\"\\n\")\n",
    "for i in range(len(Mark_list)):\n",
    "    x=1\n",
    "    for j in grade_list:\n",
    "        if Mark_list[i]==j[0]:\n",
    "            x=j[1]*credit_points[i]\n",
    "            if x!=0:\n",
    "                cre = cre+credit_points[i]\n",
    "    total=total+x\n",
    "total = total/cre\n",
    "print(\"Your GPA value is :\",total)\n"
   ]
  }
 ],
 "metadata": {
  "kernelspec": {
   "display_name": "Python 3 (ipykernel)",
   "language": "python",
   "name": "python3"
  },
  "language_info": {
   "codemirror_mode": {
    "name": "ipython",
    "version": 3
   },
   "file_extension": ".py",
   "mimetype": "text/x-python",
   "name": "python",
   "nbconvert_exporter": "python",
   "pygments_lexer": "ipython3",
   "version": "3.9.7"
  }
 },
 "nbformat": 4,
 "nbformat_minor": 5
}
