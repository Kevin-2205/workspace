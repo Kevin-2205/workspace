{
 "cells": [
  {
   "cell_type": "markdown",
   "id": "13a1ce58",
   "metadata": {},
   "source": [
    "Importing data\n",
    "---------------------\n"
   ]
  },
  {
   "cell_type": "code",
   "execution_count": 43,
   "id": "7a35d1bd",
   "metadata": {},
   "outputs": [],
   "source": [
    "import pandas as pd\n",
    "import matplotlib.pyplot as plt\n",
    "import seaborn as sns\n",
    "from scipy.stats import pearsonr\n",
    "import statsmodels.api as sm\n",
    "from scipy import stats"
   ]
  },
  {
   "cell_type": "code",
   "execution_count": 3,
   "id": "5475f693",
   "metadata": {},
   "outputs": [],
   "source": [
    "data = pd.read_csv(\"E:/imports-85.data\",header=None,na_values='?')"
   ]
  },
  {
   "cell_type": "code",
   "execution_count": 32,
   "id": "dfb91452",
   "metadata": {},
   "outputs": [
    {
     "data": {
      "text/html": [
       "<div>\n",
       "<style scoped>\n",
       "    .dataframe tbody tr th:only-of-type {\n",
       "        vertical-align: middle;\n",
       "    }\n",
       "\n",
       "    .dataframe tbody tr th {\n",
       "        vertical-align: top;\n",
       "    }\n",
       "\n",
       "    .dataframe thead th {\n",
       "        text-align: right;\n",
       "    }\n",
       "</style>\n",
       "<table border=\"1\" class=\"dataframe\">\n",
       "  <thead>\n",
       "    <tr style=\"text-align: right;\">\n",
       "      <th></th>\n",
       "      <th>symbol</th>\n",
       "      <th>normalizedloss</th>\n",
       "      <th>make</th>\n",
       "      <th>fueltype</th>\n",
       "      <th>aspiration</th>\n",
       "      <th>noofdoors</th>\n",
       "      <th>bodystyle</th>\n",
       "      <th>drivewheels</th>\n",
       "      <th>englocation</th>\n",
       "      <th>wheelbase</th>\n",
       "      <th>...</th>\n",
       "      <th>engsize</th>\n",
       "      <th>fuelsystem</th>\n",
       "      <th>bore</th>\n",
       "      <th>stroke</th>\n",
       "      <th>compressionratio</th>\n",
       "      <th>horsepower</th>\n",
       "      <th>peakrpm</th>\n",
       "      <th>citympg</th>\n",
       "      <th>highwaympg</th>\n",
       "      <th>price</th>\n",
       "    </tr>\n",
       "  </thead>\n",
       "  <tbody>\n",
       "    <tr>\n",
       "      <th>0</th>\n",
       "      <td>3</td>\n",
       "      <td>115.0</td>\n",
       "      <td>alfa-romero</td>\n",
       "      <td>gas</td>\n",
       "      <td>std</td>\n",
       "      <td>two</td>\n",
       "      <td>convertible</td>\n",
       "      <td>rwd</td>\n",
       "      <td>front</td>\n",
       "      <td>88.6</td>\n",
       "      <td>...</td>\n",
       "      <td>130</td>\n",
       "      <td>mpfi</td>\n",
       "      <td>3.47</td>\n",
       "      <td>2.68</td>\n",
       "      <td>9.0</td>\n",
       "      <td>111.0</td>\n",
       "      <td>5000.0</td>\n",
       "      <td>21</td>\n",
       "      <td>27</td>\n",
       "      <td>13495.0</td>\n",
       "    </tr>\n",
       "    <tr>\n",
       "      <th>1</th>\n",
       "      <td>3</td>\n",
       "      <td>115.0</td>\n",
       "      <td>alfa-romero</td>\n",
       "      <td>gas</td>\n",
       "      <td>std</td>\n",
       "      <td>two</td>\n",
       "      <td>convertible</td>\n",
       "      <td>rwd</td>\n",
       "      <td>front</td>\n",
       "      <td>88.6</td>\n",
       "      <td>...</td>\n",
       "      <td>130</td>\n",
       "      <td>mpfi</td>\n",
       "      <td>3.47</td>\n",
       "      <td>2.68</td>\n",
       "      <td>9.0</td>\n",
       "      <td>111.0</td>\n",
       "      <td>5000.0</td>\n",
       "      <td>21</td>\n",
       "      <td>27</td>\n",
       "      <td>16500.0</td>\n",
       "    </tr>\n",
       "    <tr>\n",
       "      <th>2</th>\n",
       "      <td>1</td>\n",
       "      <td>115.0</td>\n",
       "      <td>alfa-romero</td>\n",
       "      <td>gas</td>\n",
       "      <td>std</td>\n",
       "      <td>two</td>\n",
       "      <td>hatchback</td>\n",
       "      <td>rwd</td>\n",
       "      <td>front</td>\n",
       "      <td>94.5</td>\n",
       "      <td>...</td>\n",
       "      <td>152</td>\n",
       "      <td>mpfi</td>\n",
       "      <td>2.68</td>\n",
       "      <td>3.47</td>\n",
       "      <td>9.0</td>\n",
       "      <td>154.0</td>\n",
       "      <td>5000.0</td>\n",
       "      <td>19</td>\n",
       "      <td>26</td>\n",
       "      <td>16500.0</td>\n",
       "    </tr>\n",
       "    <tr>\n",
       "      <th>3</th>\n",
       "      <td>2</td>\n",
       "      <td>164.0</td>\n",
       "      <td>audi</td>\n",
       "      <td>gas</td>\n",
       "      <td>std</td>\n",
       "      <td>four</td>\n",
       "      <td>sedan</td>\n",
       "      <td>fwd</td>\n",
       "      <td>front</td>\n",
       "      <td>99.8</td>\n",
       "      <td>...</td>\n",
       "      <td>109</td>\n",
       "      <td>mpfi</td>\n",
       "      <td>3.19</td>\n",
       "      <td>3.40</td>\n",
       "      <td>10.0</td>\n",
       "      <td>102.0</td>\n",
       "      <td>5500.0</td>\n",
       "      <td>24</td>\n",
       "      <td>30</td>\n",
       "      <td>13950.0</td>\n",
       "    </tr>\n",
       "    <tr>\n",
       "      <th>4</th>\n",
       "      <td>2</td>\n",
       "      <td>164.0</td>\n",
       "      <td>audi</td>\n",
       "      <td>gas</td>\n",
       "      <td>std</td>\n",
       "      <td>four</td>\n",
       "      <td>sedan</td>\n",
       "      <td>4wd</td>\n",
       "      <td>front</td>\n",
       "      <td>99.4</td>\n",
       "      <td>...</td>\n",
       "      <td>136</td>\n",
       "      <td>mpfi</td>\n",
       "      <td>3.19</td>\n",
       "      <td>3.40</td>\n",
       "      <td>8.0</td>\n",
       "      <td>115.0</td>\n",
       "      <td>5500.0</td>\n",
       "      <td>18</td>\n",
       "      <td>22</td>\n",
       "      <td>17450.0</td>\n",
       "    </tr>\n",
       "  </tbody>\n",
       "</table>\n",
       "<p>5 rows × 26 columns</p>\n",
       "</div>"
      ],
      "text/plain": [
       "   symbol  normalizedloss         make fueltype aspiration noofdoors  \\\n",
       "0       3           115.0  alfa-romero      gas        std       two   \n",
       "1       3           115.0  alfa-romero      gas        std       two   \n",
       "2       1           115.0  alfa-romero      gas        std       two   \n",
       "3       2           164.0         audi      gas        std      four   \n",
       "4       2           164.0         audi      gas        std      four   \n",
       "\n",
       "     bodystyle drivewheels englocation  wheelbase  ...  engsize  fuelsystem  \\\n",
       "0  convertible         rwd       front       88.6  ...      130        mpfi   \n",
       "1  convertible         rwd       front       88.6  ...      130        mpfi   \n",
       "2    hatchback         rwd       front       94.5  ...      152        mpfi   \n",
       "3        sedan         fwd       front       99.8  ...      109        mpfi   \n",
       "4        sedan         4wd       front       99.4  ...      136        mpfi   \n",
       "\n",
       "   bore  stroke compressionratio horsepower  peakrpm citympg  highwaympg  \\\n",
       "0  3.47    2.68              9.0      111.0   5000.0      21          27   \n",
       "1  3.47    2.68              9.0      111.0   5000.0      21          27   \n",
       "2  2.68    3.47              9.0      154.0   5000.0      19          26   \n",
       "3  3.19    3.40             10.0      102.0   5500.0      24          30   \n",
       "4  3.19    3.40              8.0      115.0   5500.0      18          22   \n",
       "\n",
       "     price  \n",
       "0  13495.0  \n",
       "1  16500.0  \n",
       "2  16500.0  \n",
       "3  13950.0  \n",
       "4  17450.0  \n",
       "\n",
       "[5 rows x 26 columns]"
      ]
     },
     "execution_count": 32,
     "metadata": {},
     "output_type": "execute_result"
    }
   ],
   "source": [
    "data.head()"
   ]
  },
  {
   "cell_type": "code",
   "execution_count": 33,
   "id": "c2e4c8fd",
   "metadata": {},
   "outputs": [],
   "source": [
    "data.columns=[\"symbol\",\"normalizedloss\",\"make\",\"fueltype\",\"aspiration\",\"noofdoors\",\"bodystyle\",\"drivewheels\",\"englocation\",\"wheelbase\",\"length\",\"width\",\"height\",\"curbweight\",\"engtype\",\"cylinders\",\"engsize\",\"fuelsystem\",\"bore\",\"stroke\",\"compressionratio\",\"horsepower\",\"peakrpm\",\"citympg\",\"highwaympg\",\"price\"]"
   ]
  },
  {
   "cell_type": "code",
   "execution_count": 6,
   "id": "5051cf6f",
   "metadata": {},
   "outputs": [
    {
     "data": {
      "text/plain": [
       "41"
      ]
     },
     "execution_count": 6,
     "metadata": {},
     "output_type": "execute_result"
    }
   ],
   "source": [
    "data.normalizedloss.isnull().sum()"
   ]
  },
  {
   "cell_type": "markdown",
   "id": "d809fcff",
   "metadata": {},
   "source": [
    "<h1 font-color=red>Data Cleaning Process</h1>"
   ]
  },
  {
   "cell_type": "code",
   "execution_count": 7,
   "id": "b988e1b3",
   "metadata": {},
   "outputs": [
    {
     "data": {
      "text/plain": [
       "2"
      ]
     },
     "execution_count": 7,
     "metadata": {},
     "output_type": "execute_result"
    }
   ],
   "source": [
    "data.noofdoors.isnull().sum()"
   ]
  },
  {
   "cell_type": "code",
   "execution_count": 8,
   "id": "8024aa54",
   "metadata": {},
   "outputs": [
    {
     "data": {
      "text/plain": [
       "4"
      ]
     },
     "execution_count": 8,
     "metadata": {},
     "output_type": "execute_result"
    }
   ],
   "source": [
    "data.stroke.isnull().sum()"
   ]
  },
  {
   "cell_type": "code",
   "execution_count": 9,
   "id": "2c72f62c",
   "metadata": {},
   "outputs": [
    {
     "data": {
      "text/plain": [
       "4"
      ]
     },
     "execution_count": 9,
     "metadata": {},
     "output_type": "execute_result"
    }
   ],
   "source": [
    "data.bore.isnull().sum()"
   ]
  },
  {
   "cell_type": "code",
   "execution_count": 10,
   "id": "745616d8",
   "metadata": {},
   "outputs": [
    {
     "data": {
      "text/plain": [
       "2"
      ]
     },
     "execution_count": 10,
     "metadata": {},
     "output_type": "execute_result"
    }
   ],
   "source": [
    "data.horsepower.isnull().sum()"
   ]
  },
  {
   "cell_type": "code",
   "execution_count": 11,
   "id": "f839f5cf",
   "metadata": {},
   "outputs": [
    {
     "data": {
      "text/plain": [
       "4"
      ]
     },
     "execution_count": 11,
     "metadata": {},
     "output_type": "execute_result"
    }
   ],
   "source": [
    "data.price.isnull().sum()"
   ]
  },
  {
   "cell_type": "code",
   "execution_count": 12,
   "id": "a8829dda",
   "metadata": {},
   "outputs": [
    {
     "data": {
      "text/plain": [
       "2"
      ]
     },
     "execution_count": 12,
     "metadata": {},
     "output_type": "execute_result"
    }
   ],
   "source": [
    "data.peakrpm.isnull().sum()"
   ]
  },
  {
   "cell_type": "code",
   "execution_count": 13,
   "id": "c901c23e",
   "metadata": {},
   "outputs": [
    {
     "data": {
      "text/plain": [
       "{'whiskers': [<matplotlib.lines.Line2D at 0x9ccad70280>,\n",
       "  <matplotlib.lines.Line2D at 0x9ccad70610>],\n",
       " 'caps': [<matplotlib.lines.Line2D at 0x9ccad709a0>,\n",
       "  <matplotlib.lines.Line2D at 0x9ccad70d30>],\n",
       " 'boxes': [<matplotlib.lines.Line2D at 0x9ccad61fd0>],\n",
       " 'medians': [<matplotlib.lines.Line2D at 0x9ccad7d100>],\n",
       " 'fliers': [<matplotlib.lines.Line2D at 0x9ccad7d490>],\n",
       " 'means': []}"
      ]
     },
     "execution_count": 13,
     "metadata": {},
     "output_type": "execute_result"
    },
    {
     "data": {
      "image/png": "[encoded data removed]",
      "text/plain": [
       "<Figure size 648x648 with 6 Axes>"
      ]
     },
     "metadata": {
      "needs_background": "light"
     },
     "output_type": "display_data"
    }
   ],
   "source": [
    "plt.figure(figsize=[9.0,9.0])\n",
    "plt.subplot(2,3,1)\n",
    "plt.boxplot(data.normalizedloss.dropna())\n",
    "plt.subplot(2,3,2)\n",
    "plt.boxplot(data.stroke.dropna())\n",
    "plt.subplot(2,3,3)\n",
    "plt.boxplot(data.bore.dropna())\n",
    "plt.subplot(2,3,4)\n",
    "plt.boxplot(data.horsepower.dropna())\n",
    "plt.subplot(2,3,5)\n",
    "plt.boxplot(data.peakrpm.dropna())\n",
    "plt.subplot(2,3,6)\n",
    "plt.boxplot(data.price.dropna())"
   ]
  },
  {
   "cell_type": "code",
   "execution_count": 14,
   "id": "756274db",
   "metadata": {},
   "outputs": [],
   "source": [
    "data.normalizedloss.fillna(data.normalizedloss.median(),inplace=True)\n",
    "data.noofdoors.fillna(value=str(data.noofdoors.mode()[0]),inplace=True)\n",
    "data.stroke.fillna(data.stroke.median(),inplace=True)\n",
    "data.bore.fillna(data.bore.mean(),inplace=True)\n",
    "data.horsepower.fillna(data.horsepower.median(),inplace=True)\n",
    "data.price.fillna(data.price.median(),inplace=True)\n",
    "data.peakrpm.fillna(data.peakrpm.median(),inplace=True)"
   ]
  },
  {
   "cell_type": "markdown",
   "id": "f524fd3d",
   "metadata": {},
   "source": []
  },
  {
   "cell_type": "code",
   "execution_count": 15,
   "id": "3e4633fe",
   "metadata": {},
   "outputs": [
    {
     "data": {
      "text/plain": [
       "(0.09548893712250724, 0.17321440617487469)"
      ]
     },
     "execution_count": 15,
     "metadata": {},
     "output_type": "execute_result"
    }
   ],
   "source": [
    "pearsonr(data.normalizedloss,data.price)"
   ]
  },
  {
   "cell_type": "code",
   "execution_count": 16,
   "id": "dad95973",
   "metadata": {},
   "outputs": [
    {
     "data": {
      "text/plain": [
       "(0.584846838972225, 3.338017082369928e-20)"
      ]
     },
     "execution_count": 16,
     "metadata": {},
     "output_type": "execute_result"
    }
   ],
   "source": [
    "pearsonr(data.wheelbase,data.price)"
   ]
  },
  {
   "cell_type": "code",
   "execution_count": 17,
   "id": "e09a115d",
   "metadata": {},
   "outputs": [
    {
     "data": {
      "text/plain": [
       "(0.6865674442855646, 6.4288440073763e-30)"
      ]
     },
     "execution_count": 17,
     "metadata": {},
     "output_type": "execute_result"
    }
   ],
   "source": [
    "pearsonr(data.length,data.price)"
   ]
  },
  {
   "cell_type": "code",
   "execution_count": 18,
   "id": "6bd8dd8b",
   "metadata": {},
   "outputs": [
    {
     "data": {
      "text/plain": [
       "(0.7245583242779026, 1.1789696449955338e-34)"
      ]
     },
     "execution_count": 18,
     "metadata": {},
     "output_type": "execute_result"
    }
   ],
   "source": [
    "pearsonr(data.width,data.price)"
   ]
  },
  {
   "cell_type": "code",
   "execution_count": 19,
   "id": "6975a6be",
   "metadata": {},
   "outputs": [
    {
     "data": {
      "text/plain": [
       "(0.1404388185142756, 0.044595778160436715)"
      ]
     },
     "execution_count": 19,
     "metadata": {},
     "output_type": "execute_result"
    }
   ],
   "source": [
    "pearsonr(data.height,data.price)"
   ]
  },
  {
   "cell_type": "code",
   "execution_count": 20,
   "id": "86523a7a",
   "metadata": {},
   "outputs": [
    {
     "data": {
      "text/plain": [
       "(0.5328649013633638, 1.9629473253558344e-16)"
      ]
     },
     "execution_count": 20,
     "metadata": {},
     "output_type": "execute_result"
    }
   ],
   "source": [
    "pearsonr(data.bore,data.price)"
   ]
  },
  {
   "cell_type": "code",
   "execution_count": 21,
   "id": "60517d8c",
   "metadata": {},
   "outputs": [
    {
     "data": {
      "text/plain": [
       "(0.08362710782152097, 0.23321191098305122)"
      ]
     },
     "execution_count": 21,
     "metadata": {},
     "output_type": "execute_result"
    }
   ],
   "source": [
    "pearsonr(data.stroke,data.price)"
   ]
  },
  {
   "cell_type": "code",
   "execution_count": 22,
   "id": "77f2867b",
   "metadata": {},
   "outputs": [
    {
     "data": {
      "text/plain": [
       "(0.07289043869078718, 0.2989754575667938)"
      ]
     },
     "execution_count": 22,
     "metadata": {},
     "output_type": "execute_result"
    }
   ],
   "source": [
    "pearsonr(data.compressionratio,data.price)"
   ]
  },
  {
   "cell_type": "code",
   "execution_count": 23,
   "id": "c656a0bc",
   "metadata": {},
   "outputs": [
    {
     "data": {
      "text/plain": [
       "(0.7499191229023526, 2.7701494645427533e-38)"
      ]
     },
     "execution_count": 23,
     "metadata": {},
     "output_type": "execute_result"
    }
   ],
   "source": [
    "pearsonr(data.horsepower,data.price)"
   ]
  },
  {
   "cell_type": "code",
   "execution_count": 24,
   "id": "1bbaf709",
   "metadata": {},
   "outputs": [
    {
     "data": {
      "text/plain": [
       "(-0.107282914606469, 0.12574783680166546)"
      ]
     },
     "execution_count": 24,
     "metadata": {},
     "output_type": "execute_result"
    }
   ],
   "source": [
    "pearsonr(data.peakrpm,data.price)"
   ]
  },
  {
   "cell_type": "code",
   "execution_count": 25,
   "id": "f20981b9",
   "metadata": {},
   "outputs": [
    {
     "data": {
      "text/plain": [
       "(-0.6688215192284404, 6.034974884198224e-28)"
      ]
     },
     "execution_count": 25,
     "metadata": {},
     "output_type": "execute_result"
    }
   ],
   "source": [
    "pearsonr(data.citympg,data.price)"
   ]
  },
  {
   "cell_type": "code",
   "execution_count": 26,
   "id": "43a4890e",
   "metadata": {},
   "outputs": [
    {
     "data": {
      "text/plain": [
       "(-0.6930373012364786, 1.1310420947833799e-30)"
      ]
     },
     "execution_count": 26,
     "metadata": {},
     "output_type": "execute_result"
    }
   ],
   "source": [
    "pearsonr(data.highwaympg,data.price)"
   ]
  },
  {
   "cell_type": "code",
   "execution_count": 27,
   "id": "25758101",
   "metadata": {},
   "outputs": [
    {
     "name": "stderr",
     "output_type": "stream",
     "text": [
      "D:\\Anaconda\\lib\\site-packages\\statsmodels\\tsa\\tsatools.py:142: FutureWarning: In a future version of pandas all arguments of concat except for the argument 'objs' will be keyword-only\n",
      "  x = pd.concat(x[::order], 1)\n"
     ]
    }
   ],
   "source": [
    "train_y=data.price.iloc[0:164]\n",
    "test_y=data.price.iloc[164:]\n",
    "train_x_w=data.width.iloc[0:164]\n",
    "test_x_w=data.width.iloc[164:]\n",
    "train_x_w=sm.add_constant(train_x_w)\n",
    "test_x_w=sm.add_constant(test_x_w)\n",
    "model=sm.OLS(train_y,train_x_w).fit()\n",
    "predict_x=model.predict(train_x_w)\n",
    "model1=sm.OLS(test_y,test_x_w).fit()\n",
    "predicted_x=model.predict(test_x_w)"
   ]
  },
  {
   "cell_type": "code",
   "execution_count": 28,
   "id": "a0acfd9f",
   "metadata": {},
   "outputs": [
    {
     "data": {
      "text/plain": [
       "<AxesSubplot:xlabel='width', ylabel='price'>"
      ]
     },
     "execution_count": 28,
     "metadata": {},
     "output_type": "execute_result"
    },
    {
     "data": {
      "image/png": "[encoded data removed]",
      "text/plain": [
       "<Figure size 648x648 with 2 Axes>"
      ]
     },
     "metadata": {
      "needs_background": "light"
     },
     "output_type": "display_data"
    }
   ],
   "source": [
    "plt.figure(figsize=[9.0,9.0])\n",
    "plt.subplot(1,2,1)\n",
    "sns.scatterplot(x=train_x_w.width,y=train_y)\n",
    "sns.scatterplot(x=test_x_w.width,y=test_y)\n",
    "sns.lineplot(x=train_x_w.width,y=predict_x)\n",
    "plt.subplot(1,2,2)\n",
    "sns.scatterplot(x=train_x_w.width,y=train_y)\n",
    "sns.scatterplot(x=test_x_w.width,y=test_y)\n",
    "sns.lineplot(x=test_x_w.width,y=predicted_x)"
   ]
  },
  {
   "cell_type": "code",
   "execution_count": 29,
   "id": "2aadcacf",
   "metadata": {},
   "outputs": [
    {
     "name": "stderr",
     "output_type": "stream",
     "text": [
      "D:\\Anaconda\\lib\\site-packages\\statsmodels\\tsa\\tsatools.py:142: FutureWarning: In a future version of pandas all arguments of concat except for the argument 'objs' will be keyword-only\n",
      "  x = pd.concat(x[::order], 1)\n"
     ]
    }
   ],
   "source": [
    "train_x_hp=data.horsepower.iloc[0:164]\n",
    "test_x_hp=data.horsepower.iloc[164:]\n",
    "train_x_hp=sm.add_constant(train_x_hp)\n",
    "test_x_hp=sm.add_constant(test_x_hp)\n",
    "model=sm.OLS(train_y,train_x_hp).fit()\n",
    "predict_xhp=model.predict(train_x_hp)\n",
    "model1=sm.OLS(test_y,test_x_hp).fit()\n",
    "predicted_xhp=model.predict(test_x_hp)"
   ]
  },
  {
   "cell_type": "code",
   "execution_count": 30,
   "id": "8b9e3ff9",
   "metadata": {},
   "outputs": [
    {
     "data": {
      "text/plain": [
       "<AxesSubplot:xlabel='horsepower', ylabel='price'>"
      ]
     },
     "execution_count": 30,
     "metadata": {},
     "output_type": "execute_result"
    },
    {
     "data": {
      "image/png": "[encoded data removed]",
      "text/plain": [
       "<Figure size 504x504 with 2 Axes>"
      ]
     },
     "metadata": {
      "needs_background": "light"
     },
     "output_type": "display_data"
    }
   ],
   "source": [
    "plt.figure(figsize=[7.0,7.0])\n",
    "plt.subplot(1,2,1)\n",
    "sns.scatterplot(x=train_x_hp.horsepower,y=train_y)\n",
    "sns.scatterplot(x=test_x_hp.horsepower,y=test_y)\n",
    "sns.lineplot(x=train_x_hp.horsepower,y=predict_xhp)\n",
    "plt.subplot(1,2,2)\n",
    "sns.scatterplot(x=train_x_hp.horsepower,y=train_y)\n",
    "sns.scatterplot(x=test_x_hp.horsepower,y=test_y)\n",
    "sns.lineplot(x=test_x_hp.horsepower,y=predicted_xhp)"
   ]
  },
  {
   "cell_type": "code",
   "execution_count": 44,
   "id": "972934ce",
   "metadata": {},
   "outputs": [],
   "source": [
    "data1 = data.price[data.fueltype==\"gas\"]\n",
    "data2 = data.price[data.fueltype==\"diesel\"]\n",
    "stats.ttest_ind(data1,data2)"
   ]
  },
  {
   "cell_type": "code",
   "execution_count": 47,
   "id": "a6bce779",
   "metadata": {},
   "outputs": [
    {
     "data": {
      "text/plain": [
       "Ttest_indResult(statistic=-2.5435689960906815, pvalue=0.011717247320503188)"
      ]
     },
     "execution_count": 47,
     "metadata": {},
     "output_type": "execute_result"
    }
   ],
   "source": [
    "data1 = data.price[data.aspiration==\"std\"]\n",
    "data2 = data.price[data.aspiration==\"turbo\"]\n",
    "stats.ttest_ind(data1,data2)"
   ]
  },
  {
   "cell_type": "code",
   "execution_count": 50,
   "id": "b0ccce7e",
   "metadata": {},
   "outputs": [
    {
     "data": {
      "text/plain": [
       "Ttest_indResult(statistic=-0.6631964576574294, pvalue=0.5079571218353705)"
      ]
     },
     "execution_count": 50,
     "metadata": {},
     "output_type": "execute_result"
    }
   ],
   "source": [
    "data1 = data.price[data.noofdoors==\"two\"]\n",
    "data2 = data.price[data.noofdoors==\"four\"]\n",
    "stats.ttest_ind(data1,data2)"
   ]
  },
  {
   "cell_type": "code",
   "execution_count": 53,
   "id": "df69e88c",
   "metadata": {},
   "outputs": [
    {
     "data": {
      "text/plain": [
       "F_onewayResult(statistic=11.416530288089934, pvalue=5.269793547310443e-10)"
      ]
     },
     "execution_count": 53,
     "metadata": {},
     "output_type": "execute_result"
    }
   ],
   "source": [
    "data1 = data.price[data.bodystyle==\"convertible\"]\n",
    "data2 = data.price[data.bodystyle==\"hatchback\"]\n",
    "data3 = data.price[data.bodystyle==\"sedan\"]\n",
    "data4 = data.price[data.bodystyle==\"wagon\"]\n",
    "data5 = data.price[data.bodystyle==\"hardtop\"]\n",
    "stats.f_oneway(data1,data2,data2,data3,data4,data5)"
   ]
  },
  {
   "cell_type": "code",
   "execution_count": 55,
   "id": "1166dd9d",
   "metadata": {},
   "outputs": [
    {
     "data": {
      "text/plain": [
       "F_onewayResult(statistic=67.73579802411511, pvalue=3.07984274260414e-23)"
      ]
     },
     "execution_count": 55,
     "metadata": {},
     "output_type": "execute_result"
    }
   ],
   "source": [
    "data1 = data.price[data.drivewheels==\"rwd\"]\n",
    "data2 = data.price[data.drivewheels==\"fwd\"]\n",
    "data3 = data.price[data.drivewheels==\"4wd\"]\n",
    "stats.f_oneway(data1,data2,data3)"
   ]
  },
  {
   "cell_type": "code",
   "execution_count": 58,
   "id": "1c7b7262",
   "metadata": {},
   "outputs": [
    {
     "data": {
      "text/plain": [
       "F_onewayResult(statistic=8.41976699929087, pvalue=3.8264558339043966e-08)"
      ]
     },
     "execution_count": 58,
     "metadata": {},
     "output_type": "execute_result"
    }
   ],
   "source": [
    "data1 = data.price[data.engtype==\"dohc\"]\n",
    "data2 = data.price[data.engtype==\"ohcv\"]\n",
    "data3 = data.price[data.engtype==\"ohc\"]\n",
    "data4 = data.price[data.engtype==\"l\"]\n",
    "data5 = data.price[data.engtype==\"rotor\"]\n",
    "data6 = data.price[data.engtype==\"ohcf\"]\n",
    "data7 = data.price[data.engtype==\"dohcv\"]\n",
    "stats.f_oneway(data1,data2,data3,data4,data5,data6,data7)"
   ]
  },
  {
   "cell_type": "code",
   "execution_count": 61,
   "id": "786ab131",
   "metadata": {},
   "outputs": [
    {
     "data": {
      "text/plain": [
       "F_onewayResult(statistic=43.56071481585832, pvalue=1.0872686269905157e-33)"
      ]
     },
     "execution_count": 61,
     "metadata": {},
     "output_type": "execute_result"
    }
   ],
   "source": [
    "data1 = data.price[data.cylinders==\"four\"]\n",
    "data2 = data.price[data.cylinders==\"six\"]\n",
    "data3 = data.price[data.cylinders==\"five\"]\n",
    "data4 = data.price[data.cylinders==\"three\"]\n",
    "data5 = data.price[data.cylinders==\"twelve\"]\n",
    "data6 = data.price[data.cylinders==\"two\"]\n",
    "data7 = data.price[data.cylinders==\"eight\"]\n",
    "stats.f_oneway(data1,data2,data3,data4,data5,data6,data7)"
   ]
  },
  {
   "cell_type": "code",
   "execution_count": 63,
   "id": "e7a49464",
   "metadata": {},
   "outputs": [
    {
     "data": {
      "text/plain": [
       "F_onewayResult(statistic=14.817228592996251, pvalue=1.7866005261647304e-15)"
      ]
     },
     "execution_count": 63,
     "metadata": {},
     "output_type": "execute_result"
    }
   ],
   "source": [
    "data1 = data.price[data.fuelsystem==\"mpfi\"]\n",
    "data2 = data.price[data.fuelsystem==\"2bbl\"]\n",
    "data3 = data.price[data.fuelsystem==\"mfi\"]\n",
    "data4 = data.price[data.fuelsystem==\"1bbl\"]\n",
    "data5 = data.price[data.fuelsystem==\"spfi\"]\n",
    "data6 = data.price[data.fuelsystem==\"4bbl\"]\n",
    "data7 = data.price[data.fuelsystem==\"idi\"]\n",
    "data8 = data.price[data.fuelsystem==\"spdi\"]\n",
    "stats.f_oneway(data1,data2,data3,data4,data5,data6,data7,data8)"
   ]
  },
  {
   "cell_type": "code",
   "execution_count": null,
   "id": "0d688212",
   "metadata": {},
   "outputs": [],
   "source": []
  },
  {
   "cell_type": "code",
   "execution_count": null,
   "id": "d9ff85ef",
   "metadata": {},
   "outputs": [],
   "source": []
  }
 ],
 "metadata": {
  "kernelspec": {
   "display_name": "Python 3 (ipykernel)",
   "language": "python",
   "name": "python3"
  },
  "language_info": {
   "codemirror_mode": {
    "name": "ipython",
    "version": 3
   },
   "file_extension": ".py",
   "mimetype": "text/x-python",
   "name": "python",
   "nbconvert_exporter": "python",
   "pygments_lexer": "ipython3",
   "version": "3.9.7"
  }
 },
 "nbformat": 4,
 "nbformat_minor": 5
}
